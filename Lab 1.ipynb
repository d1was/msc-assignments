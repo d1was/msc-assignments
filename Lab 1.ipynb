{
 "cells": [
  {
   "cell_type": "markdown",
   "source": [],
   "metadata": {
    "collapsed": false,
    "pycharm": {
     "name": "#%% md\n"
    }
   }
  },
  {
   "cell_type": "code",
   "execution_count": 1,
   "outputs": [],
   "source": [
    "\n",
    "class Point:\n",
    "    def __init__(self, x, y):\n",
    "        self.x = x\n",
    "        self.y = y"
   ],
   "metadata": {
    "collapsed": false,
    "pycharm": {
     "name": "#%%\n"
    }
   }
  },
  {
   "cell_type": "markdown",
   "source": [
    "# Implementation of Line Segment"
   ],
   "metadata": {
    "collapsed": false,
    "pycharm": {
     "name": "#%% md\n"
    }
   }
  },
  {
   "cell_type": "code",
   "execution_count": 2,
   "outputs": [],
   "source": [
    "class LineSegment:\n",
    "    def __init__(self, start_point: Point, end_point: Point):\n",
    "        self.start_point = start_point\n",
    "        self.end_point = end_point\n",
    "\n"
   ],
   "metadata": {
    "collapsed": false,
    "pycharm": {
     "name": "#%%\n"
    }
   }
  },
  {
   "cell_type": "markdown",
   "source": [
    "# Implementation of Line"
   ],
   "metadata": {
    "collapsed": false,
    "pycharm": {
     "name": "#%% md\n"
    }
   }
  },
  {
   "cell_type": "code",
   "execution_count": 5,
   "outputs": [],
   "source": [
    "class Line:\n",
    "    def __init__(self, point_a: Point, point_b: Point):\n",
    "        self.point_a = point_a\n",
    "        self.point_b = point_b\n",
    "\n",
    "    def check_turn_test(self, point_c: Point):\n",
    "        # cross product of three vector p0,p1,p2 = (x1-x0)(y2-y0) - (x2-x0)(y1-y0)\n",
    "        area = (self.point_b.x - self.point_a.x)(point_c.y - self.point_a.y) - (point_c.x - self.point_a.x)(self.point_b.y - self.point_a.y)\n",
    "\n",
    "        if area == 0:\n",
    "            return \"colinear\"\n",
    "        elif area > 0:\n",
    "            return \"leftturn\"\n",
    "        else:\n",
    "            return \"rightturn\""
   ],
   "metadata": {
    "collapsed": false,
    "pycharm": {
     "name": "#%%\n"
    }
   }
  },
  {
   "cell_type": "markdown",
   "source": [
    "# Implementation of Ray"
   ],
   "metadata": {
    "collapsed": false,
    "pycharm": {
     "name": "#%% md\n"
    }
   }
  },
  {
   "cell_type": "code",
   "execution_count": 4,
   "outputs": [],
   "source": [
    "class Ray:\n",
    "    def __init__(self, starting_point: Point, point_b: Point):\n",
    "        self.starting_point = starting_point\n",
    "        self.point_b = point_b"
   ],
   "metadata": {
    "collapsed": false,
    "pycharm": {
     "name": "#%%\n"
    }
   }
  }
 ],
 "metadata": {
  "kernelspec": {
   "display_name": "Python 3",
   "language": "python",
   "name": "python3"
  },
  "language_info": {
   "codemirror_mode": {
    "name": "ipython",
    "version": 2
   },
   "file_extension": ".py",
   "mimetype": "text/x-python",
   "name": "python",
   "nbconvert_exporter": "python",
   "pygments_lexer": "ipython2",
   "version": "2.7.6"
  }
 },
 "nbformat": 4,
 "nbformat_minor": 0
}