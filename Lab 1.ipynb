{
 "cells": [
  {
   "cell_type": "markdown",
   "source": [
    "# Implementation of Point"
   ],
   "metadata": {
    "collapsed": false,
    "pycharm": {
     "name": "#%% md\n"
    }
   }
  },
  {
   "cell_type": "code",
   "execution_count": 3,
   "outputs": [],
   "source": [
    "import matplotlib.pyplot as plt\n",
    "from classes.helpers import collinear"
   ],
   "metadata": {
    "collapsed": false,
    "pycharm": {
     "name": "#%%\n"
    }
   }
  },
  {
   "cell_type": "code",
   "execution_count": 4,
   "outputs": [],
   "source": [
    "\n",
    "class Point:\n",
    "    def __init__(self, x, y):\n",
    "        self.x = x\n",
    "        self.y = y"
   ],
   "metadata": {
    "collapsed": false,
    "pycharm": {
     "name": "#%%\n"
    }
   }
  },
  {
   "cell_type": "code",
   "execution_count": 5,
   "outputs": [
    {
     "data": {
      "text/plain": "<Figure size 432x288 with 1 Axes>",
      "image/png": "[encoded data removed]"
     },
     "metadata": {
      "needs_background": "light"
     },
     "output_type": "display_data"
    }
   ],
   "source": [
    "points = [Point(4,6), Point(10,6)]\n",
    "for point in points:\n",
    "    plt.plot(point.x,point.y, 'ro' )\n",
    "plt.show()"
   ],
   "metadata": {
    "collapsed": false,
    "pycharm": {
     "name": "#%%\n"
    }
   }
  },
  {
   "cell_type": "markdown",
   "source": [
    "# Implementation of Line Segment"
   ],
   "metadata": {
    "collapsed": false,
    "pycharm": {
     "name": "#%% md\n"
    }
   }
  },
  {
   "cell_type": "code",
   "execution_count": 6,
   "outputs": [],
   "source": [
    "class LineSegment:\n",
    "    def __init__(self, start_point: Point, end_point: Point):\n",
    "        self.start_point = start_point\n",
    "        self.end_point = end_point\n",
    "\n"
   ],
   "metadata": {
    "collapsed": false,
    "pycharm": {
     "name": "#%%\n"
    }
   }
  },
  {
   "cell_type": "code",
   "execution_count": 12,
   "outputs": [
    {
     "data": {
      "text/plain": "<Figure size 432x288 with 1 Axes>",
      "image/png": "[encoded data removed]"
     },
     "metadata": {
      "needs_background": "light"
     },
     "output_type": "display_data"
    }
   ],
   "source": [
    "lines = [LineSegment(Point(4,6), Point(10,6))]\n",
    "\n",
    "for line in lines:\n",
    "    plt.plot([line.start_point.x, line.end_point.x], [line.start_point.y, line.end_point.y])\n",
    "\n",
    "plt.show()"
   ],
   "metadata": {
    "collapsed": false,
    "pycharm": {
     "name": "#%%\n"
    }
   }
  },
  {
   "cell_type": "markdown",
   "source": [
    "# Implementation of Line"
   ],
   "metadata": {
    "collapsed": false,
    "pycharm": {
     "name": "#%% md\n"
    }
   }
  },
  {
   "cell_type": "code",
   "execution_count": 8,
   "outputs": [],
   "source": [
    "class Line:\n",
    "    def __init__(self, point_a: Point, point_b: Point, infinite_point_1: Point, infinite_point_2: Point):\n",
    "        if not ( collinear(infinite_point_1, point_a, point_b) and  collinear(point_a, point_b, infinite_point_2) ):\n",
    "            raise Exception(\"Infinite points must be collinear with line segment\")\n",
    "        self.starting_point = infinite_point_1\n",
    "        self.point_a = point_a\n",
    "        self.point_b = point_b\n",
    "        self.ending_point = infinite_point_2\n",
    "\n"
   ],
   "metadata": {
    "collapsed": false,
    "pycharm": {
     "name": "#%%\n"
    }
   }
  },
  {
   "cell_type": "code",
   "execution_count": 13,
   "outputs": [
    {
     "data": {
      "text/plain": "<Figure size 432x288 with 1 Axes>",
      "image/png": "[encoded data removed]"
     },
     "metadata": {
      "needs_background": "light"
     },
     "output_type": "display_data"
    }
   ],
   "source": [
    "line = Line( Point(4, 6), Point(10, 6),Point(1, 6), Point(20,6))\n",
    "\n",
    "plt.plot([line.starting_point.x, line.point_a.x], [line.starting_point.y, line.point_a.y], 'y')\n",
    "plt.plot([line.point_a.x, line.point_b.x], [line.point_a.y, line.point_b.y], 'r')\n",
    "plt.plot([line.point_b.x, line.ending_point.x], [line.point_b.y, line.ending_point.y], 'g')\n",
    "\n",
    "plt.show()\n"
   ],
   "metadata": {
    "collapsed": false,
    "pycharm": {
     "name": "#%%\n"
    }
   }
  },
  {
   "cell_type": "markdown",
   "source": [
    "# Implementation of Ray"
   ],
   "metadata": {
    "collapsed": false,
    "pycharm": {
     "name": "#%% md\n"
    }
   }
  },
  {
   "cell_type": "code",
   "execution_count": 10,
   "outputs": [],
   "source": [
    "from classes.helpers import collinear\n",
    "\n",
    "class Ray:\n",
    "    def __init__(self, starting_point: Point, point_b: Point, end_point: Point):\n",
    "        if not collinear(starting_point, point_b, end_point):\n",
    "            raise Exception(\"Infinite point must be collinear in order to form a ray\")\n",
    "        self.starting_point = starting_point\n",
    "        self.point_b = point_b\n",
    "        self.end_point = end_point"
   ],
   "metadata": {
    "collapsed": false,
    "pycharm": {
     "name": "#%%\n"
    }
   }
  },
  {
   "cell_type": "code",
   "execution_count": 14,
   "outputs": [
    {
     "ename": "Exception",
     "evalue": "Infinite point must be collinear in order to form a ray",
     "output_type": "error",
     "traceback": [
      "\u001B[0;31m---------------------------------------------------------------------------\u001B[0m",
      "\u001B[0;31mException\u001B[0m                                 Traceback (most recent call last)",
      "Input \u001B[0;32mIn [14]\u001B[0m, in \u001B[0;36m<cell line: 1>\u001B[0;34m()\u001B[0m\n\u001B[0;32m----> 1\u001B[0m rays \u001B[38;5;241m=\u001B[39m \u001B[43mRay\u001B[49m\u001B[43m(\u001B[49m\u001B[43mPoint\u001B[49m\u001B[43m(\u001B[49m\u001B[38;5;241;43m4\u001B[39;49m\u001B[43m,\u001B[49m\u001B[38;5;241;43m6\u001B[39;49m\u001B[43m)\u001B[49m\u001B[43m,\u001B[49m\u001B[43m \u001B[49m\u001B[43mPoint\u001B[49m\u001B[43m(\u001B[49m\u001B[38;5;241;43m10\u001B[39;49m\u001B[43m,\u001B[49m\u001B[38;5;241;43m6\u001B[39;49m\u001B[43m)\u001B[49m\u001B[43m,\u001B[49m\u001B[43m \u001B[49m\u001B[43mPoint\u001B[49m\u001B[43m(\u001B[49m\u001B[38;5;241;43m20\u001B[39;49m\u001B[43m,\u001B[49m\u001B[38;5;241;43m4\u001B[39;49m\u001B[43m)\u001B[49m\u001B[43m)\u001B[49m\n\u001B[1;32m      3\u001B[0m plt\u001B[38;5;241m.\u001B[39mplot([rays\u001B[38;5;241m.\u001B[39mstarting_point\u001B[38;5;241m.\u001B[39mx, rays\u001B[38;5;241m.\u001B[39mpoint_b\u001B[38;5;241m.\u001B[39mx], [rays\u001B[38;5;241m.\u001B[39mstarting_point\u001B[38;5;241m.\u001B[39my, rays\u001B[38;5;241m.\u001B[39mpoint_b\u001B[38;5;241m.\u001B[39my], \u001B[38;5;124m'\u001B[39m\u001B[38;5;124mb\u001B[39m\u001B[38;5;124m'\u001B[39m)\n\u001B[1;32m      4\u001B[0m plt\u001B[38;5;241m.\u001B[39mplot([rays\u001B[38;5;241m.\u001B[39mpoint_b\u001B[38;5;241m.\u001B[39mx, rays\u001B[38;5;241m.\u001B[39mend_point\u001B[38;5;241m.\u001B[39mx], [ rays\u001B[38;5;241m.\u001B[39mpoint_b\u001B[38;5;241m.\u001B[39my, rays\u001B[38;5;241m.\u001B[39mend_point\u001B[38;5;241m.\u001B[39my], \u001B[38;5;124m'\u001B[39m\u001B[38;5;124mr\u001B[39m\u001B[38;5;124m'\u001B[39m)\n",
      "Input \u001B[0;32mIn [10]\u001B[0m, in \u001B[0;36mRay.__init__\u001B[0;34m(self, starting_point, point_b, end_point)\u001B[0m\n\u001B[1;32m      4\u001B[0m \u001B[38;5;28;01mdef\u001B[39;00m \u001B[38;5;21m__init__\u001B[39m(\u001B[38;5;28mself\u001B[39m, starting_point: Point, point_b: Point, end_point: Point):\n\u001B[1;32m      5\u001B[0m     \u001B[38;5;28;01mif\u001B[39;00m \u001B[38;5;129;01mnot\u001B[39;00m collinear(starting_point, point_b, end_point):\n\u001B[0;32m----> 6\u001B[0m         \u001B[38;5;28;01mraise\u001B[39;00m \u001B[38;5;167;01mException\u001B[39;00m(\u001B[38;5;124m\"\u001B[39m\u001B[38;5;124mInfinite point must be collinear in order to form a ray\u001B[39m\u001B[38;5;124m\"\u001B[39m)\n\u001B[1;32m      7\u001B[0m     \u001B[38;5;28mself\u001B[39m\u001B[38;5;241m.\u001B[39mstarting_point \u001B[38;5;241m=\u001B[39m starting_point\n\u001B[1;32m      8\u001B[0m     \u001B[38;5;28mself\u001B[39m\u001B[38;5;241m.\u001B[39mpoint_b \u001B[38;5;241m=\u001B[39m point_b\n",
      "\u001B[0;31mException\u001B[0m: Infinite point must be collinear in order to form a ray"
     ]
    }
   ],
   "source": [
    "rays = Ray(Point(4,6), Point(10,6), Point(20,4))\n",
    "\n",
    "plt.plot([rays.starting_point.x, rays.point_b.x], [rays.starting_point.y, rays.point_b.y], 'b')\n",
    "plt.plot([rays.point_b.x, rays.end_point.x], [ rays.point_b.y, rays.end_point.y], 'r')\n",
    "\n",
    "plt.show()"
   ],
   "metadata": {
    "collapsed": false,
    "pycharm": {
     "name": "#%%\n"
    }
   }
  },
  {
   "cell_type": "code",
   "execution_count": 15,
   "outputs": [
    {
     "data": {
      "text/plain": "<Figure size 432x288 with 1 Axes>",
      "image/png": "[encoded data removed]"
     },
     "metadata": {
      "needs_background": "light"
     },
     "output_type": "display_data"
    }
   ],
   "source": [
    "rays = Ray(Point(4,6), Point(10,6), Point(20,6))\n",
    "\n",
    "plt.plot([rays.starting_point.x, rays.point_b.x], [rays.starting_point.y, rays.point_b.y], 'b')\n",
    "plt.plot([rays.point_b.x, rays.end_point.x], [ rays.point_b.y, rays.end_point.y], 'r')\n",
    "\n",
    "plt.show()"
   ],
   "metadata": {
    "collapsed": false,
    "pycharm": {
     "name": "#%%\n"
    }
   }
  },
  {
   "cell_type": "code",
   "execution_count": null,
   "outputs": [],
   "source": [],
   "metadata": {
    "collapsed": false,
    "pycharm": {
     "name": "#%%\n"
    }
   }
  }
 ],
 "metadata": {
  "kernelspec": {
   "display_name": "Python 3",
   "language": "python",
   "name": "python3"
  },
  "language_info": {
   "codemirror_mode": {
    "name": "ipython",
    "version": 2
   },
   "file_extension": ".py",
   "mimetype": "text/x-python",
   "name": "python",
   "nbconvert_exporter": "python",
   "pygments_lexer": "ipython2",
   "version": "2.7.6"
  }
 },
 "nbformat": 4,
 "nbformat_minor": 0
}