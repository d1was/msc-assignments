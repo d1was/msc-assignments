{
 "cells": [
  {
   "cell_type": "code",
   "execution_count": 15,
   "outputs": [],
   "source": [
    "import numpy as np\n",
    "import pandas as pd\n",
    "from sklearn.model_selection import train_test_split\n",
    "from scipy.special import expit\n",
    "from sklearn.linear_model import LogisticRegression\n",
    "from sklearn.metrics import accuracy_score,precision_score,f1_score, recall_score"
   ],
   "metadata": {
    "collapsed": false,
    "pycharm": {
     "name": "#%%\n"
    }
   }
  },
  {
   "cell_type": "code",
   "execution_count": 10,
   "outputs": [],
   "source": [
    "df = pd.read_csv(\"/home/ragemachine/DataspellProjects/ml-assignments/assignment-2/Diabetes.csv\")\n",
    "features = ['Pregnency', 'Glucose', 'Blood Pressure', 'Skin Thickness', 'Insulin', 'BMI', 'DFP', 'Age']\n",
    "x = df[features]\n",
    "y = df.Diabetes\n",
    "\n",
    "X_train, X_test, Y_train, Y_test = train_test_split(x,y, random_state=0, train_size=0.7)"
   ],
   "metadata": {
    "collapsed": false,
    "pycharm": {
     "name": "#%%\n"
    }
   }
  },
  {
   "cell_type": "code",
   "execution_count": 11,
   "outputs": [],
   "source": [
    "model = LogisticRegression(solver='lbfgs', max_iter=1000)"
   ],
   "metadata": {
    "collapsed": false,
    "pycharm": {
     "name": "#%%\n"
    }
   }
  },
  {
   "cell_type": "code",
   "execution_count": 12,
   "outputs": [
    {
     "data": {
      "text/plain": "LogisticRegression(max_iter=1000)"
     },
     "execution_count": 12,
     "metadata": {},
     "output_type": "execute_result"
    }
   ],
   "source": [
    "model.fit(X_train, Y_train)"
   ],
   "metadata": {
    "collapsed": false,
    "pycharm": {
     "name": "#%%\n"
    }
   }
  },
  {
   "cell_type": "code",
   "execution_count": 13,
   "outputs": [],
   "source": [
    "y_pred = model.predict(X_test)"
   ],
   "metadata": {
    "collapsed": false,
    "pycharm": {
     "name": "#%%\n"
    }
   }
  },
  {
   "cell_type": "code",
   "execution_count": 16,
   "outputs": [
    {
     "name": "stdout",
     "output_type": "stream",
     "text": [
      "Accuracy = 0.7705627705627706\n",
      "Precision = 0.6507936507936508\n",
      "Recall = 0.5694444444444444\n",
      "F1 Score = 0.6074074074074073\n"
     ]
    }
   ],
   "source": [
    "accuracy_result = accuracy_score(Y_test, y_pred)\n",
    "precision_result = precision_score(Y_test, y_pred)\n",
    "recall_result = recall_score(Y_test, y_pred)\n",
    "f1_result = f1_score(Y_test, y_pred)\n",
    "\n",
    "print(\"Accuracy = {0}\".format(str(accuracy_result)))\n",
    "print(\"Precision = {0}\".format(str(precision_result)))\n",
    "print(\"Recall = {0}\".format(str(recall_result)))\n",
    "print(\"F1 Score = {0}\".format(str(f1_result)))"
   ],
   "metadata": {
    "collapsed": false,
    "pycharm": {
     "name": "#%%\n"
    }
   }
  },
  {
   "cell_type": "code",
   "execution_count": null,
   "outputs": [],
   "source": [],
   "metadata": {
    "collapsed": false,
    "pycharm": {
     "name": "#%%\n"
    }
   }
  }
 ],
 "metadata": {
  "kernelspec": {
   "display_name": "Python 3",
   "language": "python",
   "name": "python3"
  },
  "language_info": {
   "codemirror_mode": {
    "name": "ipython",
    "version": 2
   },
   "file_extension": ".py",
   "mimetype": "text/x-python",
   "name": "python",
   "nbconvert_exporter": "python",
   "pygments_lexer": "ipython2",
   "version": "2.7.6"
  }
 },
 "nbformat": 4,
 "nbformat_minor": 0
}