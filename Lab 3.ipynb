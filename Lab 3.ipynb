{
 "cells": [
  {
   "cell_type": "markdown",
   "metadata": {
    "pycharm": {
     "name": "#%% md\n"
    }
   },
   "source": [
    "# Segment Intersection"
   ]
  },
  {
   "cell_type": "code",
   "execution_count": 2,
   "metadata": {
    "pycharm": {
     "name": "#%%\n"
    }
   },
   "outputs": [],
   "source": [
    "from classes.Point import Point\n",
    "from classes.Line import Line\n",
    "import matplotlib.pyplot as plt\n",
    "from classes.helpers import left_turn,right_turn, collinear, check_betweenness"
   ]
  },
  {
   "cell_type": "code",
   "execution_count": 3,
   "outputs": [],
   "source": [
    "def xor(x: bool, y: bool):\n",
    "    return x ^ y"
   ],
   "metadata": {
    "collapsed": false,
    "pycharm": {
     "name": "#%%\n"
    }
   }
  },
  {
   "cell_type": "code",
   "execution_count": 4,
   "outputs": [],
   "source": [
    "\n",
    "def intersection_proper(a: Point, b: Point, c: Point, d: Point):\n",
    "    if(\n",
    "            collinear(a,b,c) or\n",
    "            collinear(a,b,d) or\n",
    "            collinear(c,d,a) or\n",
    "            collinear(c,d,b)\n",
    "    ):\n",
    "        return False\n",
    "    return xor( left_turn(a,b,c), left_turn(a,b,d)) and xor( left_turn(c,d,a), left_turn(c,d,b))\n",
    "\n"
   ],
   "metadata": {
    "collapsed": false,
    "pycharm": {
     "name": "#%%\n"
    }
   }
  },
  {
   "cell_type": "code",
   "execution_count": 5,
   "outputs": [],
   "source": [
    "def intersection(a: Point, b: Point, c: Point, d: Point):\n",
    "    if intersection_proper(a,b,c,d):\n",
    "        return True\n",
    "    elif(check_betweenness(a,b,c) or check_betweenness(a,b,d) or\n",
    "         check_betweenness(c,d,a) or check_betweenness(c,d,b)):\n",
    "        return True\n",
    "    else:\n",
    "        return False\n"
   ],
   "metadata": {
    "collapsed": false,
    "pycharm": {
     "name": "#%%\n"
    }
   }
  },
  {
   "cell_type": "code",
   "execution_count": 6,
   "metadata": {
    "pycharm": {
     "name": "#%%\n"
    }
   },
   "outputs": [],
   "source": [
    "def test_intersection(a: Point, b: Point, c: Point, d: Point):\n",
    "    intersect = intersection(a,b,c,d)\n",
    "    print(\"Given two lines \" + \"intersect \" if intersect else \"doesn't intersect\")\n",
    "\n",
    "    if intersection:\n",
    "        proper_intersection = intersection_proper(a,b,c,d)\n",
    "        print(\"Given two lines \" + \"intersect properly \" if proper_intersection else \"doesn't intersect properly\")\n",
    "\n",
    "\n",
    "    plt.plot([a.x, b.x], [a.y, b.y])\n",
    "    plt.plot([c.x, d.x], [c.y, d.y])\n",
    "    plt.show()\n"
   ]
  },
  {
   "cell_type": "code",
   "execution_count": 9,
   "outputs": [
    {
     "name": "stdout",
     "output_type": "stream",
     "text": [
      "Given two lines intersect \n",
      "doesn't intersect properly\n"
     ]
    },
    {
     "data": {
      "text/plain": "<Figure size 432x288 with 1 Axes>",
      "image/png": "[encoded data removed]"
     },
     "metadata": {
      "needs_background": "light"
     },
     "output_type": "display_data"
    }
   ],
   "source": [
    "a = Point(2,2)\n",
    "b = Point(10,2)\n",
    "c = Point(5,2)\n",
    "d = Point(13,2)\n",
    "\n",
    "test_intersection(a,b,c,d)\n"
   ],
   "metadata": {
    "collapsed": false,
    "pycharm": {
     "name": "#%%\n"
    }
   }
  },
  {
   "cell_type": "code",
   "execution_count": 7,
   "outputs": [],
   "source": [],
   "metadata": {
    "collapsed": false,
    "pycharm": {
     "name": "#%%\n"
    }
   }
  }
 ],
 "metadata": {
  "kernelspec": {
   "display_name": "Python 3 (ipykernel)",
   "language": "python",
   "name": "python3"
  },
  "language_info": {
   "codemirror_mode": {
    "name": "ipython",
    "version": 3
   },
   "file_extension": ".py",
   "mimetype": "text/x-python",
   "name": "python",
   "nbconvert_exporter": "python",
   "pygments_lexer": "ipython3",
   "version": "3.9.12"
  }
 },
 "nbformat": 4,
 "nbformat_minor": 1
}