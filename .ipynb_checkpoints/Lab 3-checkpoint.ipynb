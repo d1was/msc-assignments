{
 "cells": [
  {
   "cell_type": "markdown",
   "metadata": {
    "pycharm": {
     "name": "#%% md\n"
    }
   },
   "source": [
    "# Segment Intersection"
   ]
  },
  {
   "cell_type": "code",
   "execution_count": 1,
   "metadata": {
    "pycharm": {
     "name": "#%%\n"
    }
   },
   "outputs": [],
   "source": [
    "from classes.Point import Point\n",
    "from classes.Line import Line\n",
    "import matplotlib.pyplot as plt"
   ]
  },
  {
   "cell_type": "code",
   "execution_count": 5,
   "metadata": {
    "pycharm": {
     "name": "#%%\n"
    }
   },
   "outputs": [
    {
     "name": "stdout",
     "output_type": "stream",
     "text": [
      "0\n",
      "-18\n"
     ]
    },
    {
     "data": {
      "image/png": "[encoded data removed]",
      "text/plain": [
       "<Figure size 432x288 with 1 Axes>"
      ]
     },
     "metadata": {
      "needs_background": "light"
     },
     "output_type": "display_data"
    },
    {
     "name": "stdout",
     "output_type": "stream",
     "text": [
      "colinear\n",
      "No Intersection, just collinear\n"
     ]
    }
   ],
   "source": [
    "first_line_points = [Point(5,10), Point(2,2)]\n",
    "second_line_points = [Point(2,2), Point(2,8)]\n",
    "\n",
    "line_1 = Line(first_line_points[0], first_line_points[1])\n",
    "line_2 = Line(second_line_points[0], second_line_points[1])\n",
    "\n",
    "abc_turntest = line_1.check_turn_test(line_2.point_a)\n",
    "abd_turntest = line_1.check_turn_test(line_2.point_b)\n",
    "\n",
    "plt.plot([line_1.point_a.x, line_1.point_b.x], [line_1.point_a.y, line_1.point_b.y])\n",
    "plt.plot([line_2.point_a.x, line_2.point_b.x], [line_2.point_a.y, line_2.point_b.y])\n",
    "plt.show()\n",
    "\n",
    "\n",
    "if abc_turntest == abd_turntest:\n",
    "    print(\"These two lines doesn't intersect\")\n",
    "elif abc_turntest != \"colinear\" and abd_turntest != \"colinear\":\n",
    "    print(\"These two lines intersect and is a proper intersection\")\n",
    "else:\n",
    "    point_to_check_betweenness = line_2.point_a if abc_turntest == \"colinear\" else line_2.point_b\n",
    "    is_between = line_1.check_betweenness(point_to_check_betweenness)\n",
    "    if is_between:\n",
    "        print(\"Improper Intersection\")\n",
    "    else:\n",
    "        print(\"No Intersection, just collinear\")\n",
    "\n",
    "\n"
   ]
  },
  {
   "cell_type": "code",
   "execution_count": null,
   "metadata": {
    "pycharm": {
     "name": "#%%\n"
    }
   },
   "outputs": [],
   "source": []
  }
 ],
 "metadata": {
  "kernelspec": {
   "display_name": "Python 3 (ipykernel)",
   "language": "python",
   "name": "python3"
  },
  "language_info": {
   "codemirror_mode": {
    "name": "ipython",
    "version": 3
   },
   "file_extension": ".py",
   "mimetype": "text/x-python",
   "name": "python",
   "nbconvert_exporter": "python",
   "pygments_lexer": "ipython3",
   "version": "3.9.12"
  }
 },
 "nbformat": 4,
 "nbformat_minor": 1
}
